{
 "cells": [
  {
   "cell_type": "markdown",
   "id": "2521320c",
   "metadata": {},
   "source": [
    "# Update README.md\n",
    "\n",
    "This notebook automates the process of updating the `readme.md` file for the project."
   ]
  },
  {
   "cell_type": "markdown",
   "id": "83f41ee9",
   "metadata": {},
   "source": [
    "## Load Existing README File\n",
    "Use Python to open and read the contents of the existing `readme.md` file."
   ]
  },
  {
   "cell_type": "code",
   "execution_count": null,
   "id": "fed06814",
   "metadata": {},
   "outputs": [],
   "source": [
    "import os\n",
    "\n",
    "readme_path = \"readme.md\"\n",
    "original_content = \"\"\n",
    "\n",
    "try:\n",
    "    with open(readme_path, \"r\", encoding=\"utf-8\") as f:\n",
    "        original_content = f.read()\n",
    "    print(f\"Successfully loaded content from {readme_path}\")\n",
    "    # print(\"\\nOriginal Content:\\n\")\n",
    "    # print(original_content)\n",
    "except FileNotFoundError:\n",
    "    print(f\"Error: {readme_path} not found. Creating a new one.\")\n",
    "    # Optionally, create a default readme if it doesn't exist\n",
    "    original_content = \"# Project Title\\n\\nThis is a new README file.\\n\"\n",
    "except Exception as e:\n",
    "    print(f\"An error occurred while reading {readme_path}: {e}\")"
   ]
  },
  {
   "cell_type": "markdown",
   "id": "9576d3d8",
   "metadata": {},
   "source": [
    "## Modify README Content\n",
    "Edit the content of the `readme.md` file programmatically, such as appending new sections or updating existing ones."
   ]
  },
  {
   "cell_type": "code",
   "execution_count": null,
   "id": "88c656cd",
   "metadata": {},
   "outputs": [],
   "source": [
    "# Example modification: Append a new section\n",
    "import datetime\n",
    "new_section_title = \"## Automated Update Section\"\n",
    "new_section_content = \"\"\"\n",
    "This section was added programmatically by the update_readme.ipynb notebook.\n",
    "This demonstrates the ability to modify the README file using Python.\n",
    "\n",
    "Key features updated:\n",
    "- Item 1\n",
    "- Item 2\n",
    "\"\"\"\n",
    "\n",
    "modified_content = original_content\n",
    "\n",
    "# Check if the section already exists to avoid duplicates\n",
    "if new_section_title not in modified_content:\n",
    "    modified_content += f\"\\n{new_section_title}\\n{new_section_content}\\n\"\n",
    "    print(f\"Appended new section: '{new_section_title}'\")\n",
    "else:\n",
    "    # If the section exists, let's update its content\n",
    "    # This is a simple replacement, more sophisticated parsing might be needed for complex updates\n",
    "    start_index = modified_content.find(new_section_title)\n",
    "    # Find the end of the section (e.g., start of next H2 or end of file)\n",
    "    next_h2_index = modified_content.find(\n",
    "        \"\\n## \", start_index + len(new_section_title))\n",
    "\n",
    "    if next_h2_index != -1:\n",
    "        section_to_replace = modified_content[start_index:next_h2_index]\n",
    "    else:\n",
    "        section_to_replace = modified_content[start_index:]\n",
    "\n",
    "    updated_section = f\"{new_section_title}\\n{new_section_content}\\n\"\n",
    "    modified_content = modified_content.replace(\n",
    "        section_to_replace, updated_section)\n",
    "    print(f\"Updated existing section: '{new_section_title}'\")\n",
    "\n",
    "\n",
    "# Example: Update an existing line (if it exists)\n",
    "# For instance, if you have a line \"Last updated: YYYY-MM-DD\"\n",
    "current_date = datetime.datetime.now().strftime(\"%Y-%m-%d %H:%M:%S\")\n",
    "update_line_prefix = \"Last automatically updated on: \"\n",
    "new_update_line = f\"{update_line_prefix}{current_date}\"\n",
    "\n",
    "lines = modified_content.splitlines()\n",
    "found_update_line = False\n",
    "for i, line in enumerate(lines):\n",
    "    if line.startswith(update_line_prefix):\n",
    "        lines[i] = new_update_line\n",
    "        found_update_line = True\n",
    "        print(f\"Updated line: '{new_update_line}'\")\n",
    "        break\n",
    "\n",
    "if not found_update_line:\n",
    "    # Add the update line if it doesn't exist, perhaps at the end or after the title\n",
    "    # For simplicity, adding it after the first line (assuming it's the main title)\n",
    "    if lines:\n",
    "        lines.insert(1, new_update_line)\n",
    "        print(f\"Added new update line: '{new_update_line}'\")\n",
    "    else:  # If the file was empty or just created\n",
    "        lines.append(new_update_line)\n",
    "        print(f\"Added new update line to empty/new file: '{new_update_line}'\")\n",
    "\n",
    "\n",
    "modified_content = \"\\n\".join(lines)\n",
    "\n",
    "# print(\"\\nModified Content Preview:\\n\")\n",
    "# print(modified_content[:500] + \"...\" if len(modified_content) > 500 else modified_content)"
   ]
  },
  {
   "cell_type": "markdown",
   "id": "a85941cf",
   "metadata": {},
   "source": [
    "## Save Updated README File\n",
    "Write the modified content back to the `readme.md` file, ensuring changes are saved."
   ]
  },
  {
   "cell_type": "code",
   "execution_count": null,
   "id": "5b0d5067",
   "metadata": {},
   "outputs": [],
   "source": [
    "try:\n",
    "    with open(readme_path, \"w\", encoding=\"utf-8\") as f:\n",
    "        f.write(modified_content)\n",
    "    print(f\"Successfully saved updated content to {readme_path}\")\n",
    "except Exception as e:\n",
    "    print(f\"An error occurred while writing to {readme_path}: {e}\")\n",
    "\n",
    "# Verify by reading again (optional)\n",
    "# try:\n",
    "#     with open(readme_path, \"r\", encoding=\"utf-8\") as f:\n",
    "#         final_content = f.read()\n",
    "#     print(\"\\nFinal Content after saving:\\n\")\n",
    "#     print(final_content)\n",
    "# except Exception as e:\n",
    "#     print(f\"An error occurred while re-reading {readme_path}: {e}\")"
   ]
  }
 ],
 "metadata": {
  "language_info": {
   "name": "python"
  }
 },
 "nbformat": 4,
 "nbformat_minor": 5
}
